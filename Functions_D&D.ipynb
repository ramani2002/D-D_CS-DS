{
 "cells": [
  {
   "cell_type": "markdown",
   "metadata": {},
   "source": [
    "#### An example of using random library to simulate coin flips"
   ]
  },
  {
   "cell_type": "code",
   "execution_count": null,
   "metadata": {},
   "outputs": [],
   "source": [
    "import random\n",
    "\n",
    "for flip in range(20):\n",
    "    face = random.randrange(2)\n",
    "    if face == 0:\n",
    "        print('H', end = ' ')\n",
    "    else:\n",
    "        print('T', end = ' ')"
   ]
  },
  {
   "cell_type": "markdown",
   "metadata": {},
   "source": [
    "#### A Game of Chance (\"Craps\")"
   ]
  },
  {
   "cell_type": "code",
   "execution_count": null,
   "metadata": {},
   "outputs": [],
   "source": [
    "import random\n",
    "\n",
    "def roll_dies():\n",
    "    die1 = random.randrange(1,7)\n",
    "    die2 = random.randrange(1,7)\n",
    "    return (die1, die2) # Pack the die face values into a tuple\n",
    "\n",
    "def display_faces_sum(dice):\n",
    "    global sum_of_faces\n",
    "    (die1, die2) = dice # Unpack the tuple that is the die face values into a container (variable)\n",
    "                        # NOTE the order in which the assignment statement is written!!!!!!\n",
    "    sum_of_faces = sum(dice)\n",
    "    print(f'Player rolled {die1} and {die2} with total of faces {sum(dice)}')\n",
    "\n",
    "dice = roll_dies()\n",
    "display_faces_sum(dice)\n",
    "\n",
    "if sum_of_faces in (7, 11):\n",
    "    print(\"Player WON\")\n",
    "elif sum_of_faces in (2, 3, 12):\n",
    "    print(\"Player LOST\")\n",
    "else:\n",
    "    game_status = 'CONTINUE'\n",
    "    player_point = sum_of_faces\n",
    "    print(f'Point is {player_point}')\n",
    "    \n",
    "while game_status == 'CONTINUE':\n",
    "    dice = roll_dies()\n",
    "    display_faces_sum(dice)\n",
    "    sum_of_faces = sum(dice)\n",
    "    \n",
    "    if sum_of_faces == player_point:\n",
    "        game_status = 'WON'\n",
    "    else:\n",
    "        game_status = 'LOST'\n",
    "        \n",
    "if game_status == 'WON':\n",
    "    print(f'Player has WON')\n",
    "else:\n",
    "    print(f'Player has LOST')"
   ]
  },
  {
   "cell_type": "code",
   "execution_count": null,
   "metadata": {},
   "outputs": [],
   "source": [
    "# Playing with strings and string search\n",
    "vowels = 'aeiou'\n",
    "char = input(\"Enter a single english alphabet of your choice: \")\n",
    "char = char.lower()\n",
    "if char in vowels:\n",
    "    print(\"YESSSSSS\")\n",
    "else:\n",
    "    print(\"NOOOOOOO\")"
   ]
  },
  {
   "cell_type": "markdown",
   "metadata": {},
   "source": [
    "### Example of Filter, Map, Reduce\n",
    "#### Definitions\n",
    "##### Map: Apply the same set of steps to each item, storing the result.\n",
    "##### Filter: Apply validation criteria, storing items that evaluate.\n",
    "##### Reduce: Return a value that is passed from element to element."
   ]
  },
  {
   "cell_type": "code",
   "execution_count": null,
   "metadata": {},
   "outputs": [],
   "source": [
    "from functools import reduce # Filter and Map are natively available but Reduce has to be imported\n",
    "                             # from functools\n",
    "numbers = [1, 2, 3, 4, 5, 6] # Define an iterable\n",
    "\n",
    "# This example is to get the sum or odd integers\n",
    "\n",
    "# The usual for loops technique used will give the following code:\n",
    "odd_numbers = []\n",
    "squared_odd_numbers = []\n",
    "summ = 0\n",
    "acc = 0\n",
    "# # Step1: filter for odd numbers from the given list (iterable)\n",
    "# for number in numbers:\n",
    "#     if number % 2 == 1:\n",
    "#         odd_numbers.append(number)\n",
    "# # Step2: square all odd numbers after filtering for odd numbers in the given list, i.e. map\n",
    "# for number in odd_numbers:\n",
    "#     squared_odd_numbers.append(number * number)\n",
    "# # Step3: calculate total or, reduce the various squares into one sum of all squares\n",
    "# for number in squared_odd_numbers:\n",
    "#     summ += number\n",
    "# print(summ)\n",
    "\n",
    "# Step1: Filter. The syntax is filter(function, iterable), with lambda functions used in Python\n",
    "odd_nums = filter(lambda x: x%2 == 1, numbers)\n",
    "# Step2: Map. The syntax is map(function, iterable), with lambda functions used in Python\n",
    "squared_odd_nums = map(lambda x: x**2, odd_nums)\n",
    "# Step3: Reduce. Add all squares into one number. The syntax is reduce(function, iterable [,initializer])\n",
    "odd_nums_sum = reduce(lambda acc, x: acc + x, squared_odd_nums)\n",
    "print(odd_nums_sum)"
   ]
  },
  {
   "cell_type": "markdown",
   "metadata": {},
   "source": [
    "### End: Example of Filter, Map, Reduce"
   ]
  },
  {
   "cell_type": "code",
   "execution_count": null,
   "metadata": {},
   "outputs": [],
   "source": [
    "# tm = input(\"Enter the time in HH:MM:SS 24-hr format with the colons as specified: \")\n",
    "# # tm, type(tm)\n",
    "# tme = tm.split(':')\n",
    "# # tme, int(tme[0]), int(tme[1]), int(tme[2])\n",
    "# hr, min, sec = int(tme[0]), int(tme[1]), int(tme[2])\n",
    "\n",
    "def seconds_since_midnight(hr, min, sec):\n",
    "#     tm = input(\"Enter the time in HH:MM:SS 24-hr format with the colons as specified: \")\n",
    "#     tme = tm.split(':')\n",
    "#     hr, min, sec = int(tme[0]), int(tme[1]), int(tme[2])\n",
    "    hours_in_seconds = hr * 60 * 60\n",
    "    minutes_in_seconds = min * 60\n",
    "    return (hours_in_seconds + minutes_in_seconds + sec)"
   ]
  },
  {
   "cell_type": "code",
   "execution_count": null,
   "metadata": {},
   "outputs": [],
   "source": [
    "tm = input(\"Enter the time in HH:MM:SS 24-hr format with the colons as specified: \")\n",
    "tme = tm.split(':')\n",
    "hr, min, sec = int(tme[0]), int(tme[1]), int(tme[2])\n",
    "\n",
    "seconds_since_midnight(hr, min, sec)"
   ]
  },
  {
   "cell_type": "markdown",
   "metadata": {},
   "source": [
    "#### Example of a function that takes an arbitrary number of arguments AND the same function re-written to take one required\n",
    "#### argument followed by an arbitrary number of arguments"
   ]
  },
  {
   "cell_type": "code",
   "execution_count": null,
   "metadata": {},
   "outputs": [],
   "source": [
    "# The below is a function that can take any number of arguments. the problem with this function definition is that\n",
    "# if the function is call without any arguments, ZeroDivisionError occurs\n",
    "def average1(*args):\n",
    "    return (sum(args)/len(args))\n",
    "# To overcome the ZeroDivisionError, the above function can be re-written as:\n",
    "def average2(a, *args):\n",
    "    return(sum(args,a)/len(args+(a,))) \n",
    "# This ensures that the function always requires atleast one argument. Therefore, if no argument is present\n",
    "# during this function call instead of the ZeroDivisionError, we get\n",
    "# 'average() missing 1 required positional argument'\n",
    "# NOTE: *args is a tuple, so to get the length of the entire iterable, we convert the required argument\n",
    "# a into a tuple by (a,) syntax."
   ]
  },
  {
   "cell_type": "code",
   "execution_count": null,
   "metadata": {},
   "outputs": [],
   "source": [
    "average1(10, 15, 20), average2(10, 15, 20)"
   ]
  },
  {
   "cell_type": "markdown",
   "metadata": {},
   "source": [
    "#### Temperature Conversion"
   ]
  },
  {
   "cell_type": "code",
   "execution_count": null,
   "metadata": {},
   "outputs": [],
   "source": [
    "def fahrenheit_to_centigrade(f):\n",
    "    temp_in_centigrade = (f - 32)*(5/9)\n",
    "    return temp_in_centigrade\n",
    "\n",
    "def centigrade_to_fahrenheit(c):\n",
    "    temp_in_fahrenheit = (9*c/5) + 32\n",
    "    return temp_in_fahrenheit"
   ]
  },
  {
   "cell_type": "code",
   "execution_count": null,
   "metadata": {},
   "outputs": [],
   "source": [
    "for t in range(101):\n",
    "    print(f'Fahrenheit Centigrade Centigrade Fahrenheit')\n",
    "    print(f'{t:>5} {round(fahrenheit_to_centigrade(t), 2):>12} {t:>8} {centigrade_to_fahrenheit(t):>12}')"
   ]
  },
  {
   "cell_type": "code",
   "execution_count": null,
   "metadata": {},
   "outputs": [],
   "source": [
    "# BONUS: Writing the table to an external csv file. WORKS!!!!!!!\n",
    "\n",
    "import csv\n",
    "with open('C:\\\\Users\\\\raman\\\\Documents\\\\Intro_to_Python_CSandDS_Deitel\\\\Centigrade-Fahrenheit.csv', 'w', newline = '') as f:\n",
    "    print(f'Fahrenheit,Centigrade,Centigrade,Fahrenheit', file = f )\n",
    "    for t in range(101):\n",
    "        print(f'{t},{round(fahrenheit_to_centigrade(t), 2)},{t},{centigrade_to_fahrenheit(t)}', file = f )"
   ]
  },
  {
   "cell_type": "markdown",
   "metadata": {},
   "source": [
    "#### Guess the Number"
   ]
  },
  {
   "cell_type": "code",
   "execution_count": null,
   "metadata": {},
   "outputs": [],
   "source": [
    "import random\n",
    "\n",
    "num = random.randrange(1,1000)\n",
    "print (\"The house number is: \", num)\n",
    "    \n",
    "def guess():\n",
    "    g = int(input(\"Enter any integer between 1 and 1000: \"))\n",
    "    return g\n",
    "  \n",
    "def game():\n",
    "    your_guess = guess()\n",
    "    print(your_guess, type(your_guess))\n",
    "    while your_guess != num:\n",
    "        if your_guess < num:\n",
    "            print(\"Too low. Try again.\")\n",
    "        if your_guess > num:\n",
    "            print(\"Too high. Try again.\")\n",
    "        your_guess = guess()\n",
    "    print(\"Congratulations. You guessed the number!\")\n",
    "    userWish = input(\"Do you want to play again? (Y/N)\")\n",
    "    print(userWish)\n",
    "    if userWish == 'Y':\n",
    "        game()\n",
    "    if userWish == 'N':\n",
    "        print(\"Thank you for playing!\")"
   ]
  },
  {
   "cell_type": "code",
   "execution_count": null,
   "metadata": {},
   "outputs": [],
   "source": [
    "game()"
   ]
  },
  {
   "cell_type": "markdown",
   "metadata": {},
   "source": [
    "#### Guess the number - Modification: Counting the number of guesses"
   ]
  },
  {
   "cell_type": "code",
   "execution_count": null,
   "metadata": {},
   "outputs": [],
   "source": [
    "import random\n",
    "\n",
    "# numGuesses = 0\n",
    "num = random.randrange(1,1000)\n",
    "print (\"The house number is: \", num)\n",
    "    \n",
    "def guess_mod():\n",
    "    g = int(input(\"Enter any integer between 1 and 1000: \"))\n",
    "    return g\n",
    "  \n",
    "def game_mod():\n",
    "    your_guess = guess_mod()\n",
    "    print(your_guess, type(your_guess))\n",
    "    numGuesses = 0\n",
    "    while your_guess != num:\n",
    "        if your_guess < num:\n",
    "            print(\"Too low. Try again.\")\n",
    "        if your_guess > num:\n",
    "            print(\"Too high. Try again.\")\n",
    "            \n",
    "        numGuesses += 1\n",
    "        your_guess = guess_mod()\n",
    "    print(\"Congratulations. You guessed the number after\", numGuesses, \"tries!\")\n",
    "    if numGuesses <=10:\n",
    "        print(\"Number of guesses is\", numGuesses, \". Either you know the secret or you got lucky!\")\n",
    "    else:\n",
    "        print(\"Number of guesses is\", numGuesses, \". You should be able to do better\")\n",
    "    userWish = input(\"Do you want to play again? (Y/N)\")\n",
    "    print(userWish)\n",
    "    if userWish == 'Y':\n",
    "        game_mod()\n",
    "    if userWish == 'N':\n",
    "        print(\"Thank you for playing!\")"
   ]
  },
  {
   "cell_type": "code",
   "execution_count": null,
   "metadata": {},
   "outputs": [],
   "source": [
    "game_mod()"
   ]
  },
  {
   "cell_type": "markdown",
   "metadata": {},
   "source": [
    "#### Arbitrary Argument List"
   ]
  },
  {
   "cell_type": "code",
   "execution_count": null,
   "metadata": {},
   "outputs": [],
   "source": [
    "def user_input():\n",
    "    '''This function gets user inputs of arbitrary lengths\n",
    "    until the user prompts to indicate end of entries'''\n",
    "    L = []\n",
    "    while True:\n",
    "        userInput = input(\"Enter a series of integers (S to stop): \")\n",
    "        if userInput != 'S':\n",
    "            num = int(userInput)\n",
    "            L.append(num)\n",
    "        else:\n",
    "            print(\"You have indicated that your list is over.\")\n",
    "            return L\n",
    "    \n",
    "\n",
    "def prod_arbitrary_input():\n",
    "    prod = 1\n",
    "    liszt = user_input()\n",
    "    for element in liszt:\n",
    "        prod *= element\n",
    "    return prod"
   ]
  },
  {
   "cell_type": "code",
   "execution_count": null,
   "metadata": {},
   "outputs": [],
   "source": [
    "prod_arbitrary_input()"
   ]
  },
  {
   "cell_type": "markdown",
   "metadata": {},
   "source": [
    "#### Computer Assisted Instruction (CAI)"
   ]
  },
  {
   "cell_type": "code",
   "execution_count": null,
   "metadata": {},
   "outputs": [],
   "source": [
    "import random\n",
    "\n",
    "def random_tuple():\n",
    "    a = random.randrange(1, 10)\n",
    "    b = random.randrange(1, 10)\n",
    "    return (a,b)\n",
    "\n",
    "def mult_quiz():\n",
    "    N = random_tuple()\n",
    "    (num1, num2) = N\n",
    "    print(f'How much is {num1} times {num2}?')\n",
    "    ans = int(input(\">>>>\"))\n",
    "    while ans != num1 * num2:\n",
    "        print(\"No. Please try again.\")\n",
    "        print(f'How much is {num1} times {num2}?')\n",
    "        ans = int(input(\">>>>\"))\n",
    "    else:\n",
    "        print(\"Very good!\")\n",
    "        \n",
    "mult_quiz()"
   ]
  },
  {
   "cell_type": "markdown",
   "metadata": {},
   "source": [
    "#### Computer Assisted Instruction (CAI) - modified: Difficulty Levels"
   ]
  },
  {
   "cell_type": "code",
   "execution_count": null,
   "metadata": {},
   "outputs": [],
   "source": [
    "import random\n",
    "\n",
    "def random_tuple_diffLevel():\n",
    "    diffLevel = int(input('Enter 1 or 2 for difficulty levels: '))\n",
    "    if diffLevel == 1:\n",
    "        a = random.randrange(1, 10)\n",
    "        b = random.randrange(1, 10)\n",
    "    else:\n",
    "        a = random.randrange(1, 100)\n",
    "        b = random.randrange(1, 100)\n",
    "    return (a,b)\n",
    "\n",
    "def mult_quiz():\n",
    "    N = random_tuple_diffLevel()\n",
    "    (num1, num2) = N\n",
    "    print(f'How much is {num1} times {num2}?')\n",
    "    ans = int(input(\">>>>\"))\n",
    "    while ans != num1 * num2:\n",
    "        print(\"No. Please try again.\")\n",
    "        print(f'How much is {num1} times {num2}?')\n",
    "        ans = int(input(\">>>>\"))\n",
    "    else:\n",
    "        print(\"Very good!\")\n",
    "        \n",
    "mult_quiz()"
   ]
  },
  {
   "cell_type": "code",
   "execution_count": null,
   "metadata": {},
   "outputs": [],
   "source": []
  },
  {
   "cell_type": "code",
   "execution_count": null,
   "metadata": {},
   "outputs": [],
   "source": []
  },
  {
   "cell_type": "code",
   "execution_count": null,
   "metadata": {},
   "outputs": [],
   "source": []
  }
 ],
 "metadata": {
  "kernelspec": {
   "display_name": "Python 3",
   "language": "python",
   "name": "python3"
  },
  "language_info": {
   "codemirror_mode": {
    "name": "ipython",
    "version": 3
   },
   "file_extension": ".py",
   "mimetype": "text/x-python",
   "name": "python",
   "nbconvert_exporter": "python",
   "pygments_lexer": "ipython3",
   "version": "3.7.7"
  }
 },
 "nbformat": 4,
 "nbformat_minor": 4
}
