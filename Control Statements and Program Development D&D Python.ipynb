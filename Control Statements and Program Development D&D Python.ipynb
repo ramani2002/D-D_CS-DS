{
 "cells": [
  {
   "cell_type": "code",
   "execution_count": null,
   "metadata": {},
   "outputs": [],
   "source": [
    "L = [98, 76, 71, 87, 83, 90, 57, 79, 82, 94]\n",
    "print(len(L))\n",
    "\n",
    "def ClassAverage(Liszt):\n",
    "    avg = 0\n",
    "    total = 0\n",
    "    for score in L:\n",
    "        total += score\n",
    "        avg = total/len(L)\n",
    "    return avg"
   ]
  },
  {
   "cell_type": "code",
   "execution_count": null,
   "metadata": {},
   "outputs": [],
   "source": [
    "ClassAverage(L)"
   ]
  },
  {
   "cell_type": "code",
   "execution_count": null,
   "metadata": {},
   "outputs": [],
   "source": [
    "def ClAvgwithUserInput():\n",
    "#     NumInputs = 10\n",
    "#     counter = 1\n",
    "    avg = 0\n",
    "    total = 0\n",
    "#     while counter <= NumInputs:\n",
    "#         score = float(input(\"Enter a student score\"))\n",
    "#         total += score\n",
    "#         avg = total/NumInputs\n",
    "#         counter += 1\n",
    "    while score != -1:\n",
    "        score = float(input(\"Enter student scores. After entering all scores enter '-1: '\"))\n",
    "        total += score\n",
    "        avg = total/NumInputs\n",
    "#         counter += 1\n",
    "    print(f'The Average of the Class Scores is: {avg:.2f}')\n",
    "    return avg"
   ]
  },
  {
   "cell_type": "code",
   "execution_count": null,
   "metadata": {},
   "outputs": [],
   "source": [
    "ClAvgwithUserInput()"
   ]
  },
  {
   "cell_type": "code",
   "execution_count": null,
   "metadata": {},
   "outputs": [],
   "source": [
    "number1 = 7\n",
    "number2 = 5\n",
    "prod = number1 * number2\n",
    "print(f'{number1} times {number2} is {prod:.2f}')"
   ]
  },
  {
   "cell_type": "code",
   "execution_count": null,
   "metadata": {},
   "outputs": [],
   "source": [
    "sses = 0\n",
    "fails = 0\n",
    "student_count = 0\n",
    "\n",
    "result = int(input(\"Enter 1 for pass or 2 for fail: \"))\n",
    "\n",
    "for result in range(10):\n",
    "    while (result != 1 or result !=2):\n",
    "        print(\"Incorrect Input\")\n",
    "        result = int(input(\"Enter 1 for pass or 2 for fail: \"))\n",
    "\n",
    "    if result == 1:\n",
    "        passes += 1\n",
    "    else:\n",
    "        fails += 1\n",
    "\n",
    "if passes >= 8:\n",
    "    print(f'The instructor gets a bonus because passes are {passes}')\n",
    "else:\n",
    "    print(f'No bonus for the instructor because passes are {passes}')"
   ]
  },
  {
   "cell_type": "code",
   "execution_count": null,
   "metadata": {},
   "outputs": [],
   "source": [
    "total = 0\n",
    "for number in range(2, 102, 2):\n",
    "    total += number\n",
    "print(f'The total of even integers from 2 to 100 is: {total}')"
   ]
  },
  {
   "cell_type": "code",
   "execution_count": null,
   "metadata": {},
   "outputs": [],
   "source": [
    "import decimal\n",
    "dir(decimal.Decimal)"
   ]
  },
  {
   "cell_type": "code",
   "execution_count": null,
   "metadata": {},
   "outputs": [],
   "source": [
    "from decimal import Decimal\n",
    "\n",
    "bill = Decimal('37.45')\n",
    "tax = Decimal(0.0625) * bill\n",
    "billTotal = bill + tax\n",
    "print(f' the total bill is {billTotal:.2f}')\n"
   ]
  },
  {
   "cell_type": "code",
   "execution_count": null,
   "metadata": {},
   "outputs": [],
   "source": [
    "import statistics\n",
    "values = [47, 95, 88, 73, 88, 84]\n",
    "print(f'{statistics.mean(values):.2f} {statistics.median(values)} {statistics.mode(values)}')"
   ]
  },
  {
   "cell_type": "code",
   "execution_count": null,
   "metadata": {},
   "outputs": [],
   "source": [
    "num = input('Please enter a number between 1-5')\n",
    "\n",
    "if num in range(1,6):\n",
    "    print(\"That's a valid option. Congratulations!\")\n",
    "else:\n",
    "    print(\"That's not an option, fool!\")"
   ]
  },
  {
   "cell_type": "code",
   "execution_count": null,
   "metadata": {},
   "outputs": [],
   "source": [
    "passes = 0\n",
    "fails = 0\n",
    "student_count = 1\n",
    "\n",
    "# result = int(input(\"Enter 1 for pass or 2 for fail: \"))\n",
    "\n",
    "def UserInput():\n",
    "    liszt = []\n",
    "    result = int(input(\"Enter 1 for pass or 2 for fail: \"))\n",
    "#     while\n",
    "    if (result == 1) or (result == 2):\n",
    "        liszt.append(result)\n",
    "    return liszt\n",
    "    else:\n",
    "        return \"Wrong Results entered!\"\n",
    "\n",
    "    "
   ]
  },
  {
   "cell_type": "code",
   "execution_count": null,
   "metadata": {},
   "outputs": [],
   "source": [
    "UserInput()"
   ]
  },
  {
   "cell_type": "code",
   "execution_count": null,
   "metadata": {},
   "outputs": [],
   "source": [
    "for row in range(10):\n",
    "    print(row)\n",
    "    for column in range(7):\n",
    "        print('@' if row % 2 == 1 else '@', end = ' ')"
   ]
  },
  {
   "cell_type": "code",
   "execution_count": null,
   "metadata": {},
   "outputs": [],
   "source": [
    "for row in range(2):\n",
    "    for column in range (7):\n",
    "        print('@', end = ' ')\n",
    "    print()"
   ]
  },
  {
   "cell_type": "markdown",
   "metadata": {},
   "source": [
    "##### Implementing if-else statement"
   ]
  },
  {
   "cell_type": "code",
   "execution_count": null,
   "metadata": {},
   "outputs": [],
   "source": [
    "# NEEDS REFINEMENT\n",
    "\n",
    "'''Describe the 'Trichotomy Law' between two integers'''\n",
    "\n",
    "n1 = int(input(\"Enter the first integer: \"))\n",
    "n2 = int(input(\"Enter the second integer: \"))\n",
    "\n",
    "'''The Trichotomy Law states that give two integers they are either less than, or more than, or equal, to each other'''\n",
    "\n",
    "if n1 > n2 and n1 != n2:\n",
    "    print (f'The first number you entered {n1} is greater than the second number {n2} you entered')\n",
    "else:\n",
    "    print(f'The second number you entered {n2} is greater than the first number {n1} you entered')\n",
    "    \n",
    "if n1 >= n2:\n",
    "    print (f'The first number you entered {n1} is greater than or equal to the second number {n2} you entered')\n",
    "else:\n",
    "    print(f'The second number you entered {n2} is greater than or equal to the first number {n1} you entered')\n",
    "    \n",
    "if n1 == n2:\n",
    "    print (f'The first number you entered {n1} is equal to the second number {n2} you entered')\n",
    "else:\n",
    "    print(f'The second number you entered {n2} is not equal the first number {n1} you entered')\n"
   ]
  },
  {
   "cell_type": "code",
   "execution_count": null,
   "metadata": {},
   "outputs": [],
   "source": [
    "turing = input(\"What's with your problem?\")\n",
    "while True:\n",
    "    turing = input(\"What's with your problem?\")\n",
    "    break\n",
    "usr = input(\"Have you had this problem before (Yes or No)?\")\n",
    "if usr == \"Yes\":\n",
    "    turing = print(\"well you have it again\")\n",
    "else:\n",
    "    turing = print(\"Well you have it now.\")"
   ]
  },
  {
   "cell_type": "markdown",
   "metadata": {},
   "source": [
    "#### Table of Squares, Cubes, and Third Powers - Right Aligned"
   ]
  },
  {
   "cell_type": "code",
   "execution_count": 1,
   "metadata": {},
   "outputs": [
    {
     "name": "stdout",
     "output_type": "stream",
     "text": [
      "num square cube fourth\n",
      "  0     0    0      0\n",
      "  1     1    1      1\n",
      "  2     4    8     16\n",
      "  3     9   27     81\n",
      "  4    16   64    256\n",
      "  5    25  125    625\n",
      "  6    36  216   1296\n",
      "  7    49  343   2401\n",
      "  8    64  512   4096\n",
      "  9    81  729   6561\n",
      " 10   100 1000  10000\n"
     ]
    }
   ],
   "source": [
    "print(\"{} {} {} {}\" .format(\"num\", \"square\", \"cube\", \"fourth\"))\n",
    "for num in range (0, 11):\n",
    "    print(f'{num:>3} {num**2:>5} {num**3:>4} {num**4:>6}')"
   ]
  },
  {
   "cell_type": "markdown",
   "metadata": {},
   "source": [
    "#### Arithmetic, Smallest and Largest Integers"
   ]
  },
  {
   "cell_type": "code",
   "execution_count": null,
   "metadata": {},
   "outputs": [],
   "source": [
    "intTuple = ()\n",
    "intList = list(intTuple)\n",
    "total = 0\n",
    "avg = 0\n",
    "prod = 1\n",
    "numnums = 10\n",
    "\n",
    "for i in range(numnums):\n",
    "    num = int(input(\"Input an integer: \"))\n",
    "    total += num\n",
    "    prod *= num\n",
    "    intList.append(num)\n",
    "    \n",
    "intTuple = tuple(intList)\n",
    "avg = total/numnums\n",
    "\n",
    "small = intTuple[0]\n",
    "large = intTuple[0]\n",
    "for num in intTuple:\n",
    "    if num <= small:\n",
    "        small = num\n",
    "    else:\n",
    "        if num >= large:\n",
    "            large = num\n",
    "print(total, prod, avg, small, large)\n",
    "print('{} {} {} {} {}'.format(total, prod, avg, small, large))"
   ]
  },
  {
   "cell_type": "code",
   "execution_count": null,
   "metadata": {},
   "outputs": [],
   "source": [
    "# Converting the above script into a function\n",
    "\n",
    "# intTuple = ()\n",
    "# intList = list(intTuple)\n",
    "# total = 0\n",
    "# avg = 0\n",
    "# prod = 1\n",
    "# numnums = 10\n",
    "\n",
    "def RithmtcSmlstLrgst():\n",
    "    intTuple = ()\n",
    "    intList = list(intTuple)\n",
    "    total = 0\n",
    "    avg = 0\n",
    "    prod = 1\n",
    "    numnums = 10\n",
    "    for i in range(numnums):\n",
    "            num = int(input(\"Input an integer: \"))\n",
    "            total += num\n",
    "            prod *= num\n",
    "            intList.append(num)\n",
    "            \n",
    "    intTuple = tuple(intList)\n",
    "    avg = total/numnums\n",
    "    small = intTuple[0]\n",
    "    large = intTuple[0]\n",
    "    for num in intTuple:\n",
    "        if num <= small:\n",
    "            small = num\n",
    "        else:\n",
    "            if num >= large:\n",
    "                large = num\n",
    "    return(total, prod, avg, small, large)\n",
    "    print('{} {} {} {} {}'.format(total, prod, avg, small, large))"
   ]
  },
  {
   "cell_type": "code",
   "execution_count": null,
   "metadata": {},
   "outputs": [],
   "source": [
    "RithmtcSmlstLrgst()"
   ]
  },
  {
   "cell_type": "markdown",
   "metadata": {},
   "source": [
    "#### Separating Digits in an Integer"
   ]
  },
  {
   "cell_type": "code",
   "execution_count": null,
   "metadata": {},
   "outputs": [],
   "source": [
    "# Read an integer from end user\n",
    "\n",
    "UInmbr = input(\"Enter a number of your choice: \")\n",
    "print(UInmbr), print(len(UInmbr))\n",
    "nmbr = int(UInmbr)\n",
    "print(nmbr)\n",
    "for i in range(len(UInmbr), 0, -1):\n",
    "                     print('This your number - digits left to right:', (nmbr//(10**(i-1))%10))"
   ]
  },
  {
   "cell_type": "markdown",
   "metadata": {},
   "source": [
    "#### Miles per Gallon"
   ]
  },
  {
   "cell_type": "code",
   "execution_count": null,
   "metadata": {},
   "outputs": [],
   "source": [
    "gallons_tank1 = 100\n",
    "miles_tank1 = 50\n",
    "milesperGallon_tank1 = 50/100\n",
    "\n",
    "gallons_tank2 = 1150\n",
    "miles_tank2 = 70\n",
    "milesperGallon_tank2 = 70/150\n",
    "\n",
    "gallons_tank3 = 100\n",
    "miles_tank3 = 50\n",
    "milesperGallon_tank3 = 110/200\n",
    "\n",
    "inend: total_capacity_alltanks = T, miles_driven_alltanks = M, milesperGallon_alltanks = M/T\n",
    "\n",
    "\n"
   ]
  },
  {
   "cell_type": "code",
   "execution_count": null,
   "metadata": {},
   "outputs": [],
   "source": [
    "NumberTanks = int(input(\"Enter number of tanks: \"))\n",
    "total_gallons = 0\n",
    "total_miles = 0\n",
    "\n",
    "for t in range(NumberTanks):\n",
    "    gallons = float(input(\"Number of gallons in tank: \"))\n",
    "    miles = float(input(\"Number of miles driven: \"))\n",
    "    mpg = miles/gallons\n",
    "    total_gallons += gallons\n",
    "    total_miles += miles\n",
    "    total_mpg = total_miles/total_gallons\n",
    "    print(\"Gallons used in tank{} is {}.\".format(t+1, gallons))\n",
    "    print(\"Miles driven using gas in tank{} is {}.\".format(t+1, miles))\n",
    "    print(\"MpG used w.r.t. tank{} is {}.\".format(t+1, mpg))\n",
    "print(\"Overall Average MpG is {}\".format(total_mpg)) "
   ]
  },
  {
   "cell_type": "markdown",
   "metadata": {},
   "source": [
    "#### Palindrome"
   ]
  },
  {
   "cell_type": "code",
   "execution_count": null,
   "metadata": {},
   "outputs": [],
   "source": [
    "# Palindromes can exist in any of numbers, strings, or mixed types\n",
    "\n",
    "line = input(\"Input your string: \")\n",
    "\n",
    "olist = list(line)\n",
    "plist = []\n",
    "for i in range(len(olist)-1, -1, -1):\n",
    "    plist.append(olist[i])\n",
    "    \n",
    "# if olist == plist:\n",
    "#     print(\"The line you entered is a palindrome!\")\n",
    "# else:\n",
    "#     print(\"The line you entered is not a palindrome!\")\n",
    "    \n",
    "# Instead of using list compare, can loop through the two lists because they are both\n",
    "# of the same length\n",
    "\n",
    "for j in range(-1, len(olist)+1):\n",
    "    if olist[j] == plist[j]:\n",
    "        print(\"The line you entered is a palindrome!\")\n",
    "        break\n",
    "    else:\n",
    "        print(\"The line you entered is not a palindrome!\")\n",
    "        break"
   ]
  },
  {
   "cell_type": "markdown",
   "metadata": {},
   "source": [
    "#### Factorials"
   ]
  },
  {
   "cell_type": "code",
   "execution_count": 97,
   "metadata": {},
   "outputs": [],
   "source": [
    "# This function checks inputs to ensure that there are no \n",
    "import re\n",
    "def UserInput():\n",
    "    specChars = '[/@_!#$%^&*()<>?/\\|}{~:]'\n",
    "    alphabets = '[a-zA-Z]'\n",
    "    value = input('Enter an Integer:')\n",
    "#     while value.isalnum():\n",
    "    if value.isalpha():\n",
    "        return \"You entered all alphabetic characters\"\n",
    "    elif value.count('.') == 1:\n",
    "        return \"You entered a float instead of an integer\"\n",
    "    elif re.findall(alphabets, value):\n",
    "        return \"There is an alphabetic character in your entry\"\n",
    "    elif re.findall(specChars, value):\n",
    "        return \"Did you enter any special character?\"\n",
    "    else:\n",
    "        print(\"Hooray! You now have an integer!\")\n",
    "    return int(value)"
   ]
  },
  {
   "cell_type": "code",
   "execution_count": 98,
   "metadata": {},
   "outputs": [
    {
     "name": "stdout",
     "output_type": "stream",
     "text": [
      "Enter an Integer:1q\n"
     ]
    },
    {
     "data": {
      "text/plain": [
       "'There is an alphabetic character in your entry'"
      ]
     },
     "execution_count": 98,
     "metadata": {},
     "output_type": "execute_result"
    }
   ],
   "source": [
    "UserInput()"
   ]
  },
  {
   "cell_type": "code",
   "execution_count": 99,
   "metadata": {},
   "outputs": [],
   "source": [
    "def fact():\n",
    "    N = UserInput()\n",
    "    fact = 1\n",
    "    m = int(N)\n",
    "    for i in range(1, (N+1)):\n",
    "#         print(i)\n",
    "        fact = fact*i\n",
    "#     print(N, prod)\n",
    "    return fact\n",
    "\n",
    "# NOTE: Watch out for this construct!!"
   ]
  },
  {
   "cell_type": "code",
   "execution_count": 101,
   "metadata": {},
   "outputs": [
    {
     "name": "stdout",
     "output_type": "stream",
     "text": [
      "Enter an Integer:4\n",
      "Hooray! You now have an integer!\n",
      "1\n",
      "2\n",
      "3\n",
      "4\n"
     ]
    },
    {
     "data": {
      "text/plain": [
       "24"
      ]
     },
     "execution_count": 101,
     "metadata": {},
     "output_type": "execute_result"
    }
   ],
   "source": [
    "fact()"
   ]
  },
  {
   "cell_type": "markdown",
   "metadata": {},
   "source": [
    "#### Approximating the Mathematical Constant Pi"
   ]
  },
  {
   "cell_type": "code",
   "execution_count": 135,
   "metadata": {},
   "outputs": [
    {
     "name": "stdout",
     "output_type": "stream",
     "text": [
      "The number of terms to reach 3.14 is 1257\n",
      "The number of terms to reach 3.141 is 3377\n",
      "The number of terms to reach 3.1415 is 21589\n",
      "The number of terms to reach 3.14159 is 753697\n"
     ]
    }
   ],
   "source": [
    "pi_value = [3.14, 3.141, 3.1415, 3.14159]\n",
    "\n",
    "for element in pi_value:\n",
    "    seriesSum = 0\n",
    "    i = 1\n",
    "    j = 3\n",
    "    termCount = 0\n",
    "    while seriesSum <= element:\n",
    "        seriesSum += 4*((1/i) - (1/j))\n",
    "        i = (i+4)\n",
    "        j = (j+4)\n",
    "        termCount += 1\n",
    "#         print(f\"SeriesSum = {seriesSum}. Number of terms is: {termCount}\")\n",
    "    print(f\"The number of terms to reach {element} is {i}\")"
   ]
  },
  {
   "cell_type": "code",
   "execution_count": 130,
   "metadata": {},
   "outputs": [
    {
     "name": "stdout",
     "output_type": "stream",
     "text": [
      "4\n",
      "6\n",
      "23\n",
      "78\n",
      "123456\n"
     ]
    }
   ],
   "source": [
    "l = [4, 6, 23, 78, 123456]\n",
    "for element in l:\n",
    "    print(element)"
   ]
  },
  {
   "cell_type": "markdown",
   "metadata": {},
   "source": [
    "#### Find Two Largest Values of 10 Numbers Entered "
   ]
  },
  {
   "cell_type": "code",
   "execution_count": 24,
   "metadata": {},
   "outputs": [
    {
     "name": "stdout",
     "output_type": "stream",
     "text": [
      "97\n",
      "5 9\n",
      "[2, 7, 66, 4, 8, 3, 1, 90]\n",
      "90\n",
      "The two largest numbers from the original list are 97 and 90\n"
     ]
    }
   ],
   "source": [
    "L = [2, 7, 66, 4, 8, 97, 3, 1, 90]\n",
    "max1 = L[0]\n",
    "max2 = L2[0]\n",
    "for element in L:\n",
    "    if element >= max1:\n",
    "        max1 = element\n",
    "print(max1)\n",
    "# Remove the max element from the list\n",
    "max_index = L.index(max1)\n",
    "print(max_index, len(L))\n",
    "# Use the index of the max element to remove the max element\n",
    "L2 = L[:max_index] + L[max_index+1:]\n",
    "print(L2)\n",
    "\n",
    "for element in L2:\n",
    "    if element > max2:\n",
    "        max2 = element\n",
    "print(max2) \n",
    "\n",
    "print(f\"The two largest numbers from the original list are {max1} and {max2}\")\n",
    "\n",
    "# CAN THIS LOGIC BE WRITTEN WITH JUST ONE LOOP????? INVESTIGATE!!!!"
   ]
  },
  {
   "cell_type": "markdown",
   "metadata": {},
   "source": [
    "#### Script to Display Triangle Patterns"
   ]
  },
  {
   "cell_type": "code",
   "execution_count": 42,
   "metadata": {},
   "outputs": [
    {
     "name": "stdout",
     "output_type": "stream",
     "text": [
      "          \n",
      "*         \n",
      "**        \n",
      "***       \n",
      "****      \n",
      "*****     \n",
      "******    \n",
      "*******   \n",
      "********  \n",
      "********* \n",
      "\n",
      "**********\n",
      "********* \n",
      "********  \n",
      "*******   \n",
      "******    \n",
      "*****     \n",
      "****      \n",
      "***       \n",
      "**        \n",
      "*         \n",
      "\n",
      "**********\n",
      " *********\n",
      "  ********\n",
      "   *******\n",
      "    ******\n",
      "     *****\n",
      "      ****\n",
      "       ***\n",
      "        **\n",
      "         *\n",
      "\n",
      "          \n",
      "         *\n",
      "        **\n",
      "       ***\n",
      "      ****\n",
      "     *****\n",
      "    ******\n",
      "   *******\n",
      "  ********\n",
      " *********\n"
     ]
    }
   ],
   "source": [
    "patt = '*'\n",
    "pattNum = 1\n",
    "for lineNo in range (0, 10):\n",
    "    print(f'{lineNo*patt:<10}')\n",
    "print()\n",
    "for lineNo in range (10, 0, -1):\n",
    "    print(f'{lineNo*patt:<10}')\n",
    "print()\n",
    "for lineNo in range (10, 0, -1):\n",
    "    print(f'{lineNo*patt:>10}')\n",
    "print()\n",
    "for lineNo in range (0, 10):\n",
    "    print(f'{lineNo*patt:>10}')"
   ]
  },
  {
   "cell_type": "code",
   "execution_count": 52,
   "metadata": {},
   "outputs": [
    {
     "name": "stdout",
     "output_type": "stream",
     "text": [
      "                     \n",
      "*                   *\n",
      "**                 **\n",
      "***               ***\n",
      "****             ****\n",
      "*****           *****\n",
      "******         ******\n",
      "*******       *******\n",
      "********     ********\n",
      "*********   *********\n",
      "********** **********\n"
     ]
    }
   ],
   "source": [
    "# Modification to the above script to print te patterns in one row\n",
    "pattn = '*'\n",
    "for rowNum in range(11):\n",
    "    print(f'{rowNum*patt:<10} {rowNum*patt:>10}')\n",
    "    \n",
    "# TO BE DONE!!!!"
   ]
  },
  {
   "cell_type": "markdown",
   "metadata": {},
   "source": [
    "#### Brute Force Computing: Pythagorean Triples"
   ]
  },
  {
   "cell_type": "code",
   "execution_count": 68,
   "metadata": {},
   "outputs": [
    {
     "name": "stdout",
     "output_type": "stream",
     "text": [
      "Enter an integer of choice: 50\n",
      "A Pythagorean Triple is 3, 4, 5\n",
      "A Pythagorean Triple is 4, 3, 5\n",
      "A Pythagorean Triple is 5, 12, 13\n",
      "A Pythagorean Triple is 6, 8, 10\n",
      "A Pythagorean Triple is 7, 24, 25\n",
      "A Pythagorean Triple is 8, 6, 10\n",
      "A Pythagorean Triple is 8, 15, 17\n",
      "A Pythagorean Triple is 9, 12, 15\n",
      "A Pythagorean Triple is 9, 40, 41\n",
      "A Pythagorean Triple is 10, 24, 26\n",
      "A Pythagorean Triple is 12, 5, 13\n",
      "A Pythagorean Triple is 12, 9, 15\n",
      "A Pythagorean Triple is 12, 16, 20\n",
      "A Pythagorean Triple is 12, 35, 37\n",
      "A Pythagorean Triple is 15, 8, 17\n",
      "A Pythagorean Triple is 15, 20, 25\n",
      "A Pythagorean Triple is 15, 36, 39\n",
      "A Pythagorean Triple is 16, 12, 20\n",
      "A Pythagorean Triple is 16, 30, 34\n",
      "A Pythagorean Triple is 18, 24, 30\n",
      "A Pythagorean Triple is 20, 15, 25\n",
      "A Pythagorean Triple is 20, 21, 29\n",
      "A Pythagorean Triple is 21, 20, 29\n",
      "A Pythagorean Triple is 21, 28, 35\n",
      "A Pythagorean Triple is 24, 7, 25\n",
      "A Pythagorean Triple is 24, 10, 26\n",
      "A Pythagorean Triple is 24, 18, 30\n",
      "A Pythagorean Triple is 24, 32, 40\n",
      "A Pythagorean Triple is 27, 36, 45\n",
      "A Pythagorean Triple is 28, 21, 35\n",
      "A Pythagorean Triple is 30, 16, 34\n",
      "A Pythagorean Triple is 32, 24, 40\n",
      "A Pythagorean Triple is 35, 12, 37\n",
      "A Pythagorean Triple is 36, 15, 39\n",
      "A Pythagorean Triple is 36, 27, 45\n",
      "A Pythagorean Triple is 40, 9, 41\n",
      "There are 36 Pythagorean Triples\n"
     ]
    }
   ],
   "source": [
    "endN = int(input(\"Enter an integer of choice: \"))\n",
    "numTriples = 0\n",
    "for a in range(1, endN):\n",
    "    for b in range(1, endN):\n",
    "        for c in range(1, endN):\n",
    "            if a**2 + b**2 == c**2:\n",
    "                numTriples += 1\n",
    "                print(f'A Pythagorean Triple is {a}, {b}, {c}')\n",
    "print(f'There are {numTriples} Pythagorean Triples')"
   ]
  },
  {
   "cell_type": "code",
   "execution_count": 80,
   "metadata": {},
   "outputs": [
    {
     "name": "stdout",
     "output_type": "stream",
     "text": [
      "There are 0 Pythagorean Triples where N = 1\n",
      "There are 0 Pythagorean Triples where N = 2\n",
      "There are 0 Pythagorean Triples where N = 3\n",
      "There are 0 Pythagorean Triples where N = 4\n",
      "There are 0 Pythagorean Triples where N = 5\n",
      "There are 2 Pythagorean Triples where N = 6\n",
      "There are 2 Pythagorean Triples where N = 7\n",
      "There are 2 Pythagorean Triples where N = 8\n",
      "There are 2 Pythagorean Triples where N = 9\n",
      "There are 2 Pythagorean Triples where N = 10\n",
      "There are 4 Pythagorean Triples where N = 11\n",
      "There are 4 Pythagorean Triples where N = 12\n",
      "There are 4 Pythagorean Triples where N = 13\n",
      "There are 6 Pythagorean Triples where N = 14\n",
      "There are 6 Pythagorean Triples where N = 15\n",
      "There are 8 Pythagorean Triples where N = 16\n",
      "There are 8 Pythagorean Triples where N = 17\n",
      "There are 10 Pythagorean Triples where N = 18\n",
      "There are 10 Pythagorean Triples where N = 19\n",
      "There are 10 Pythagorean Triples where N = 20\n",
      "There are 12 Pythagorean Triples where N = 21\n",
      "There are 12 Pythagorean Triples where N = 22\n",
      "There are 12 Pythagorean Triples where N = 23\n",
      "There are 12 Pythagorean Triples where N = 24\n",
      "There are 12 Pythagorean Triples where N = 25\n",
      "There are 16 Pythagorean Triples where N = 26\n",
      "There are 18 Pythagorean Triples where N = 27\n",
      "There are 18 Pythagorean Triples where N = 28\n",
      "There are 18 Pythagorean Triples where N = 29\n",
      "There are 20 Pythagorean Triples where N = 30\n",
      "There are 22 Pythagorean Triples where N = 31\n",
      "There are 22 Pythagorean Triples where N = 32\n",
      "There are 22 Pythagorean Triples where N = 33\n",
      "There are 22 Pythagorean Triples where N = 34\n",
      "There are 24 Pythagorean Triples where N = 35\n",
      "There are 26 Pythagorean Triples where N = 36\n",
      "There are 26 Pythagorean Triples where N = 37\n",
      "There are 28 Pythagorean Triples where N = 38\n",
      "There are 28 Pythagorean Triples where N = 39\n",
      "There are 30 Pythagorean Triples where N = 40\n",
      "There are 32 Pythagorean Triples where N = 41\n",
      "There are 34 Pythagorean Triples where N = 42\n",
      "There are 34 Pythagorean Triples where N = 43\n",
      "There are 34 Pythagorean Triples where N = 44\n",
      "There are 34 Pythagorean Triples where N = 45\n",
      "There are 36 Pythagorean Triples where N = 46\n",
      "There are 36 Pythagorean Triples where N = 47\n",
      "There are 36 Pythagorean Triples where N = 48\n",
      "There are 36 Pythagorean Triples where N = 49\n",
      "There are 36 Pythagorean Triples where N = 50\n"
     ]
    }
   ],
   "source": [
    "# Are the Pythagorean Triples distributed in some way?\n",
    "# endN = int(input(\"Enter an integer of choice: \"))\n",
    "for endN in range(1, 51):\n",
    "    numTriples = 0\n",
    "    for a in range(1, endN):\n",
    "        for b in range(1, endN):\n",
    "            for c in range(1, endN):\n",
    "                if a**2 + b**2 == c**2:\n",
    "                    numTriples += 1\n",
    "#                     print(f'A Pythagorean Triple is {a}, {b}, {c}')\n",
    "    print(f'There are {numTriples} Pythagorean Triples where N = {endN}')"
   ]
  },
  {
   "cell_type": "code",
   "execution_count": null,
   "metadata": {},
   "outputs": [],
   "source": [
    "# TO BE DONE!!!!!\n",
    "str = '11111'\n",
    "binstr = int(str)\n",
    "print(binstr)\n",
    "binstr\n",
    "# (binstr//1)%2, (binstr//2)%2, (binstr%4)%2, (binstr%8)//2, (binstr%16)//2\n",
    "(binstr%16)//2, (binstr%8)//2, (binstr%4)%2, (binstr//2)%2, (binstr//1)%2\n",
    "(binstr%16)//2, (binstr%8)//2, (binstr%4)%2, (binstr//2)%2, (binstr//1)%2\n",
    "16*(binstr%16)//2 + 8*(binstr%8)//2+ 4*(binstr%4)%2 + 2*int((binstr//2)%2) + 1*(binstr//1)%2\n",
    "# Can use the definition of int() as so:\n",
    "# int('11111', 2) int(str, base)"
   ]
  },
  {
   "cell_type": "markdown",
   "metadata": {},
   "source": [
    "#### Calculate Change using the Fewest Number of Coins (quarters, dimes, nickels, pennies)"
   ]
  },
  {
   "cell_type": "code",
   "execution_count": 34,
   "metadata": {},
   "outputs": [
    {
     "name": "stdout",
     "output_type": "stream",
     "text": [
      "66\n",
      "Your change is:\n",
      " 2  quarters\n",
      " 1  dimes\n",
      " 1  nickels\n",
      " 1  pennies\n"
     ]
    }
   ],
   "source": [
    "# THE LOGIC I AM USING HERE IS:\n",
    "# IF N AND M ARE TWO INTEGERS: N = M*(N//2) + N%2, WHERE\n",
    "# N//2 IS THE QUOTIENT WHEN N IS DIVIDED BY M AND N%2 IS THE REMAINDER WHEN N IS DIVIDED BY M!!!!\n",
    "\n",
    "merch_cost = 34\n",
    "# Assume the customer paid with a dollar bill, 100 cents\n",
    "change_due = 100 - merch_cost\n",
    "print(change_due)\n",
    "# change_due = 69\n",
    "\n",
    "changeDue25 = 25*(change_due//25) + change_due%25\n",
    "numQuarters = change_due//25\n",
    "# print(numQuarters)\n",
    "R1 = change_due%25\n",
    "# print(R1)\n",
    "\n",
    "R1 = 10*(R1//10) + R1%10\n",
    "numDimes = R1//10\n",
    "# print(numDimes)\n",
    "R2 = R1%10\n",
    "# print(R2)\n",
    "\n",
    "R2 = 5*(R2//5) + R2%5\n",
    "numNickels = R2//5\n",
    "# print(numNickels)\n",
    "R3 = R2%5\n",
    "# print(R3)\n",
    "\n",
    "R3  = 1*(R3//1) + R3%1 \n",
    "numPennies = R3//1\n",
    "# print(numPennies)\n",
    "\n",
    "print(f'Your change is:\\n {numQuarters:<2} quarters\\n {numDimes:<2} dimes\\n {numNickels:<2} nickels\\n {numPennies:<2} pennies')"
   ]
  },
  {
   "cell_type": "code",
   "execution_count": 39,
   "metadata": {},
   "outputs": [
    {
     "name": "stdout",
     "output_type": "stream",
     "text": [
      "Enter an integer(-1 to break)-1\n",
      "You entered:  -1\n"
     ]
    }
   ],
   "source": [
    "# Optional ELSE clause of a loop\n",
    "# If you break out of a <i>WHILE</i> or a <i>FOR</i> that has <i>ELSE</i> the ELSE part does not execute!\n",
    "\n",
    "for i in range(2):\n",
    "    value = int(input(\"Enter an integer(-1 to break)\"))\n",
    "    print(\"You entered: \", value)\n",
    "    \n",
    "    if value == -1:\n",
    "        break\n",
    "\n",
    "else:\n",
    "    print(\"the loop terminated without executing the break\")"
   ]
  },
  {
   "cell_type": "code",
   "execution_count": null,
   "metadata": {},
   "outputs": [],
   "source": []
  },
  {
   "cell_type": "code",
   "execution_count": null,
   "metadata": {},
   "outputs": [],
   "source": []
  }
 ],
 "metadata": {
  "kernelspec": {
   "display_name": "Python 3",
   "language": "python",
   "name": "python3"
  },
  "language_info": {
   "codemirror_mode": {
    "name": "ipython",
    "version": 3
   },
   "file_extension": ".py",
   "mimetype": "text/x-python",
   "name": "python",
   "nbconvert_exporter": "python",
   "pygments_lexer": "ipython3",
   "version": "3.7.7"
  }
 },
 "nbformat": 4,
 "nbformat_minor": 4
}
